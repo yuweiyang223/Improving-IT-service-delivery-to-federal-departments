{
  "nbformat": 4,
  "nbformat_minor": 0,
  "metadata": {
    "colab": {
      "name": "CanDev-SSC.ipynb",
      "provenance": [],
      "collapsed_sections": [],
      "toc_visible": true,
      "authorship_tag": "ABX9TyMn2IeUlLB4wDQ31NPt4t3U",
      "include_colab_link": true
    },
    "kernelspec": {
      "name": "python3",
      "display_name": "Python 3"
    },
    "language_info": {
      "name": "python"
    }
  },
  "cells": [
    {
      "cell_type": "markdown",
      "metadata": {
        "id": "view-in-github",
        "colab_type": "text"
      },
      "source": [
        "<a href=\"https://colab.research.google.com/github/yuweiyang223/Improving-IT-service-delivery-to-federal-departments/blob/main/CanDev_SSC.ipynb\" target=\"_parent\"><img src=\"https://colab.research.google.com/assets/colab-badge.svg\" alt=\"Open In Colab\"/></a>"
      ]
    },
    {
      "cell_type": "markdown",
      "source": [
        "# Data Gathering"
      ],
      "metadata": {
        "id": "VxEKnAmPLIr6"
      }
    },
    {
      "cell_type": "code",
      "execution_count": 1,
      "metadata": {
        "id": "uTVtpxDbD3rb"
      },
      "outputs": [],
      "source": [
        "# data gathering and rendering\n",
        "import pandas as pd\n",
        "import numpy as np\n",
        "# upload from local device\n",
        "from google.colab import files\n",
        "import io\n",
        "# ignore warnings\n",
        "import warnings\n",
        "warnings.filterwarnings(\"ignore\")\n",
        "from google.colab import drive\n",
        "import seaborn as sns\n",
        "import matplotlib.pyplot as plt\n",
        "from matplotlib import pyplot\n",
        "import plotly.express as px\n"
      ]
    },
    {
      "cell_type": "code",
      "source": [
        "def plot_hist_log(feature_name,ticks,bins,df):\n",
        "\n",
        "    '''\n",
        "    feature_name : a string for column's name in a data frame.\n",
        "    ticks        : a list of numbers for x-axis values in the histogram.\n",
        "    bins         : histogram number of bins.\n",
        "    df            : The data frame.\n",
        "\n",
        "    '''\n",
        "    labels=['{}'.format(v) for v in ticks]\n",
        "    df[feature_name].hist( bins=bins);\n",
        "    plt.xscale('log')\n",
        "    plt.xticks(ticks,labels);\n",
        "def graph_labels(x_label,y_label,title):\n",
        "\n",
        "    '''\n",
        "    x_label : a string input for x label.\n",
        "    y_label : a string input for ylabel.\n",
        "    title   :  a string input for title.\n",
        "    '''\n",
        "    plt.figure(figsize=(15,7))\n",
        "    plt.title(title,fontsize=20)\n",
        "    plt.xlabel(x_label,fontsize=14)\n",
        "    plt.ylabel(y_label,fontsize=14)\n",
        "\n",
        "        "
      ],
      "metadata": {
        "id": "9ORYhgMxEOQR"
      },
      "execution_count": 2,
      "outputs": []
    },
    {
      "cell_type": "code",
      "source": [
        "drive.mount('/content/gdrive')\n",
        "inc_hist=pd.read_csv('gdrive/MyDrive/CanDev-SCC/INCIDENT_HISTORY.csv')\n",
        "inc_own=pd.read_csv('gdrive/MyDrive/CanDev-SCC/INCIDENT_OWNER_HISTORY.csv')\n",
        "inc=pd.read_csv('gdrive/MyDrive/CanDev-SCC/INCIDENTS.csv')\n"
      ],
      "metadata": {
        "colab": {
          "base_uri": "https://localhost:8080/"
        },
        "id": "bZQ2q5qc_0N7",
        "outputId": "4c3c2608-5926-48eb-b0d6-68024bc3cd06"
      },
      "execution_count": 3,
      "outputs": [
        {
          "output_type": "stream",
          "name": "stdout",
          "text": [
            "Drive already mounted at /content/gdrive; to attempt to forcibly remount, call drive.mount(\"/content/gdrive\", force_remount=True).\n"
          ]
        }
      ]
    },
    {
      "cell_type": "markdown",
      "source": [
        "# Data Cleaning"
      ],
      "metadata": {
        "id": "vJtdITVvy6DJ"
      }
    },
    {
      "cell_type": "code",
      "source": [
        "inc_hist.drop_duplicates(inplace=True)\n",
        "#df1.dropna(inplace=True)\n",
        "inc_own.drop_duplicates(inplace=True)\n",
        "#df2.dropna(inplace=True)\n",
        "inc.drop_duplicates(inplace=True)\n",
        "#df3.dropna(inplace=True)"
      ],
      "metadata": {
        "id": "NfOgRbICy5jm"
      },
      "execution_count": 4,
      "outputs": []
    },
    {
      "cell_type": "code",
      "source": [
        "inc_hist.info()"
      ],
      "metadata": {
        "colab": {
          "base_uri": "https://localhost:8080/"
        },
        "id": "TmzFYeNtz7ap",
        "outputId": "74a6b575-1607-4584-af77-bede5db80410"
      },
      "execution_count": 5,
      "outputs": [
        {
          "output_type": "stream",
          "name": "stdout",
          "text": [
            "<class 'pandas.core.frame.DataFrame'>\n",
            "Int64Index: 1080393 entries, 0 to 1083996\n",
            "Data columns (total 4 columns):\n",
            " #   Column              Non-Null Count    Dtype  \n",
            "---  ------              --------------    -----  \n",
            " 0   ticket_nmbr         1080393 non-null  object \n",
            " 1   STATUS              1080393 non-null  object \n",
            " 2   change_date         1002956 non-null  object \n",
            " 3   TIME_IN_STATUS_HRS  815479 non-null   float64\n",
            "dtypes: float64(1), object(3)\n",
            "memory usage: 41.2+ MB\n"
          ]
        }
      ]
    },
    {
      "cell_type": "code",
      "source": [
        "inc_own.info()"
      ],
      "metadata": {
        "colab": {
          "base_uri": "https://localhost:8080/"
        },
        "id": "oxi4HjDkz_Bn",
        "outputId": "c9599d06-0611-4c82-f605-5933012ebd3c"
      },
      "execution_count": 6,
      "outputs": [
        {
          "output_type": "stream",
          "name": "stdout",
          "text": [
            "<class 'pandas.core.frame.DataFrame'>\n",
            "Int64Index: 1150266 entries, 0 to 1152408\n",
            "Data columns (total 7 columns):\n",
            " #   Column                       Non-Null Count    Dtype  \n",
            "---  ------                       --------------    -----  \n",
            " 0   ticket_nmbr                  1150266 non-null  object \n",
            " 1   STATUS                       1150266 non-null  object \n",
            " 2   assigned_group               990706 non-null   object \n",
            " 3   PARENT_SERVICE               990416 non-null   object \n",
            " 4   service                      990628 non-null   object \n",
            " 5   CHANGE_DATE                  1062090 non-null  object \n",
            " 6   TIME_IN_STATUS_BY_OWNER_HRS  738608 non-null   float64\n",
            "dtypes: float64(1), object(6)\n",
            "memory usage: 70.2+ MB\n"
          ]
        }
      ]
    },
    {
      "cell_type": "code",
      "source": [
        "inc.info()"
      ],
      "metadata": {
        "colab": {
          "base_uri": "https://localhost:8080/"
        },
        "id": "5k31Y1bM0CX5",
        "outputId": "ca77362c-ee62-45d6-a190-bf929c74d95e"
      },
      "execution_count": 7,
      "outputs": [
        {
          "output_type": "stream",
          "name": "stdout",
          "text": [
            "<class 'pandas.core.frame.DataFrame'>\n",
            "Int64Index: 226296 entries, 0 to 226295\n",
            "Data columns (total 20 columns):\n",
            " #   Column                   Non-Null Count   Dtype  \n",
            "---  ------                   --------------   -----  \n",
            " 0   TICKET_NMBR              226296 non-null  object \n",
            " 1   PARENT_SERVICE           225548 non-null  object \n",
            " 2   service                  226296 non-null  object \n",
            " 3   org_id                   225451 non-null  float64\n",
            " 4   ASSIGNED_GROUP           225395 non-null  object \n",
            " 5   OPEN_DATE                226296 non-null  object \n",
            " 6   CLOSE_DATE               225276 non-null  object \n",
            " 7   PRIORITY                 226296 non-null  object \n",
            " 8   STATUS                   226296 non-null  object \n",
            " 9   ACTUAL_COMPLETION_HRS    225276 non-null  float64\n",
            " 10  BUSINESS_COMPLETION_HRS  225276 non-null  float64\n",
            " 11  AGING                    1020 non-null    float64\n",
            " 12  CLASS_STRUCTURE_ID       209348 non-null  object \n",
            " 13  class_structure          208664 non-null  object \n",
            " 14  CLASSIFICATION_ID        226296 non-null  object \n",
            " 15  classification           226296 non-null  object \n",
            " 16  EXTERNAL_SYSTEM          221005 non-null  object \n",
            " 17  GLOBAL_TICKET_ID         0 non-null       float64\n",
            " 18  CLOSURE_CODE             223912 non-null  object \n",
            " 19  LAST_MODIFIED_DATE       226296 non-null  object \n",
            "dtypes: float64(5), object(15)\n",
            "memory usage: 36.3+ MB\n"
          ]
        }
      ]
    },
    {
      "cell_type": "code",
      "source": [
        "inc_hist.head()"
      ],
      "metadata": {
        "colab": {
          "base_uri": "https://localhost:8080/",
          "height": 206
        },
        "id": "QaAyZehw9NJY",
        "outputId": "60870c2c-3f78-46e3-bf68-f0fd8efeb740"
      },
      "execution_count": 8,
      "outputs": [
        {
          "output_type": "execute_result",
          "data": {
            "text/html": [
              "\n",
              "  <div id=\"df-d6da96ea-fc05-44e5-a584-5a80221d4d54\">\n",
              "    <div class=\"colab-df-container\">\n",
              "      <div>\n",
              "<style scoped>\n",
              "    .dataframe tbody tr th:only-of-type {\n",
              "        vertical-align: middle;\n",
              "    }\n",
              "\n",
              "    .dataframe tbody tr th {\n",
              "        vertical-align: top;\n",
              "    }\n",
              "\n",
              "    .dataframe thead th {\n",
              "        text-align: right;\n",
              "    }\n",
              "</style>\n",
              "<table border=\"1\" class=\"dataframe\">\n",
              "  <thead>\n",
              "    <tr style=\"text-align: right;\">\n",
              "      <th></th>\n",
              "      <th>ticket_nmbr</th>\n",
              "      <th>STATUS</th>\n",
              "      <th>change_date</th>\n",
              "      <th>TIME_IN_STATUS_HRS</th>\n",
              "    </tr>\n",
              "  </thead>\n",
              "  <tbody>\n",
              "    <tr>\n",
              "      <th>0</th>\n",
              "      <td>IN10028612</td>\n",
              "      <td>QUEUED</td>\n",
              "      <td>01APR2016:00:03:12</td>\n",
              "      <td>8.383333</td>\n",
              "    </tr>\n",
              "    <tr>\n",
              "      <th>1</th>\n",
              "      <td>IN10028612</td>\n",
              "      <td>RESOLVED</td>\n",
              "      <td>01APR2016:08:26:30</td>\n",
              "      <td>0.000000</td>\n",
              "    </tr>\n",
              "    <tr>\n",
              "      <th>2</th>\n",
              "      <td>IN10028612</td>\n",
              "      <td>CLOSED</td>\n",
              "      <td>12APR2016:05:30:11</td>\n",
              "      <td>NaN</td>\n",
              "    </tr>\n",
              "    <tr>\n",
              "      <th>3</th>\n",
              "      <td>IN10028613</td>\n",
              "      <td>QUEUED</td>\n",
              "      <td>01APR2016:01:04:45</td>\n",
              "      <td>64.100000</td>\n",
              "    </tr>\n",
              "    <tr>\n",
              "      <th>4</th>\n",
              "      <td>IN10028613</td>\n",
              "      <td>RESOLVED</td>\n",
              "      <td>11APR2016:11:06:12</td>\n",
              "      <td>0.000000</td>\n",
              "    </tr>\n",
              "  </tbody>\n",
              "</table>\n",
              "</div>\n",
              "      <button class=\"colab-df-convert\" onclick=\"convertToInteractive('df-d6da96ea-fc05-44e5-a584-5a80221d4d54')\"\n",
              "              title=\"Convert this dataframe to an interactive table.\"\n",
              "              style=\"display:none;\">\n",
              "        \n",
              "  <svg xmlns=\"http://www.w3.org/2000/svg\" height=\"24px\"viewBox=\"0 0 24 24\"\n",
              "       width=\"24px\">\n",
              "    <path d=\"M0 0h24v24H0V0z\" fill=\"none\"/>\n",
              "    <path d=\"M18.56 5.44l.94 2.06.94-2.06 2.06-.94-2.06-.94-.94-2.06-.94 2.06-2.06.94zm-11 1L8.5 8.5l.94-2.06 2.06-.94-2.06-.94L8.5 2.5l-.94 2.06-2.06.94zm10 10l.94 2.06.94-2.06 2.06-.94-2.06-.94-.94-2.06-.94 2.06-2.06.94z\"/><path d=\"M17.41 7.96l-1.37-1.37c-.4-.4-.92-.59-1.43-.59-.52 0-1.04.2-1.43.59L10.3 9.45l-7.72 7.72c-.78.78-.78 2.05 0 2.83L4 21.41c.39.39.9.59 1.41.59.51 0 1.02-.2 1.41-.59l7.78-7.78 2.81-2.81c.8-.78.8-2.07 0-2.86zM5.41 20L4 18.59l7.72-7.72 1.47 1.35L5.41 20z\"/>\n",
              "  </svg>\n",
              "      </button>\n",
              "      \n",
              "  <style>\n",
              "    .colab-df-container {\n",
              "      display:flex;\n",
              "      flex-wrap:wrap;\n",
              "      gap: 12px;\n",
              "    }\n",
              "\n",
              "    .colab-df-convert {\n",
              "      background-color: #E8F0FE;\n",
              "      border: none;\n",
              "      border-radius: 50%;\n",
              "      cursor: pointer;\n",
              "      display: none;\n",
              "      fill: #1967D2;\n",
              "      height: 32px;\n",
              "      padding: 0 0 0 0;\n",
              "      width: 32px;\n",
              "    }\n",
              "\n",
              "    .colab-df-convert:hover {\n",
              "      background-color: #E2EBFA;\n",
              "      box-shadow: 0px 1px 2px rgba(60, 64, 67, 0.3), 0px 1px 3px 1px rgba(60, 64, 67, 0.15);\n",
              "      fill: #174EA6;\n",
              "    }\n",
              "\n",
              "    [theme=dark] .colab-df-convert {\n",
              "      background-color: #3B4455;\n",
              "      fill: #D2E3FC;\n",
              "    }\n",
              "\n",
              "    [theme=dark] .colab-df-convert:hover {\n",
              "      background-color: #434B5C;\n",
              "      box-shadow: 0px 1px 3px 1px rgba(0, 0, 0, 0.15);\n",
              "      filter: drop-shadow(0px 1px 2px rgba(0, 0, 0, 0.3));\n",
              "      fill: #FFFFFF;\n",
              "    }\n",
              "  </style>\n",
              "\n",
              "      <script>\n",
              "        const buttonEl =\n",
              "          document.querySelector('#df-d6da96ea-fc05-44e5-a584-5a80221d4d54 button.colab-df-convert');\n",
              "        buttonEl.style.display =\n",
              "          google.colab.kernel.accessAllowed ? 'block' : 'none';\n",
              "\n",
              "        async function convertToInteractive(key) {\n",
              "          const element = document.querySelector('#df-d6da96ea-fc05-44e5-a584-5a80221d4d54');\n",
              "          const dataTable =\n",
              "            await google.colab.kernel.invokeFunction('convertToInteractive',\n",
              "                                                     [key], {});\n",
              "          if (!dataTable) return;\n",
              "\n",
              "          const docLinkHtml = 'Like what you see? Visit the ' +\n",
              "            '<a target=\"_blank\" href=https://colab.research.google.com/notebooks/data_table.ipynb>data table notebook</a>'\n",
              "            + ' to learn more about interactive tables.';\n",
              "          element.innerHTML = '';\n",
              "          dataTable['output_type'] = 'display_data';\n",
              "          await google.colab.output.renderOutput(dataTable, element);\n",
              "          const docLink = document.createElement('div');\n",
              "          docLink.innerHTML = docLinkHtml;\n",
              "          element.appendChild(docLink);\n",
              "        }\n",
              "      </script>\n",
              "    </div>\n",
              "  </div>\n",
              "  "
            ],
            "text/plain": [
              "  ticket_nmbr    STATUS         change_date  TIME_IN_STATUS_HRS\n",
              "0  IN10028612    QUEUED  01APR2016:00:03:12            8.383333\n",
              "1  IN10028612  RESOLVED  01APR2016:08:26:30            0.000000\n",
              "2  IN10028612    CLOSED  12APR2016:05:30:11                 NaN\n",
              "3  IN10028613    QUEUED  01APR2016:01:04:45           64.100000\n",
              "4  IN10028613  RESOLVED  11APR2016:11:06:12            0.000000"
            ]
          },
          "metadata": {},
          "execution_count": 8
        }
      ]
    },
    {
      "cell_type": "code",
      "source": [
        "inc_own.head()\n"
      ],
      "metadata": {
        "colab": {
          "base_uri": "https://localhost:8080/",
          "height": 340
        },
        "id": "2UcnrBDU9W-t",
        "outputId": "cfe10053-a62c-43f7-dc6a-8652270d1c56"
      },
      "execution_count": 9,
      "outputs": [
        {
          "output_type": "execute_result",
          "data": {
            "text/html": [
              "\n",
              "  <div id=\"df-86b85f3c-77ca-4af1-8167-0b7eb69a265a\">\n",
              "    <div class=\"colab-df-container\">\n",
              "      <div>\n",
              "<style scoped>\n",
              "    .dataframe tbody tr th:only-of-type {\n",
              "        vertical-align: middle;\n",
              "    }\n",
              "\n",
              "    .dataframe tbody tr th {\n",
              "        vertical-align: top;\n",
              "    }\n",
              "\n",
              "    .dataframe thead th {\n",
              "        text-align: right;\n",
              "    }\n",
              "</style>\n",
              "<table border=\"1\" class=\"dataframe\">\n",
              "  <thead>\n",
              "    <tr style=\"text-align: right;\">\n",
              "      <th></th>\n",
              "      <th>ticket_nmbr</th>\n",
              "      <th>STATUS</th>\n",
              "      <th>assigned_group</th>\n",
              "      <th>PARENT_SERVICE</th>\n",
              "      <th>service</th>\n",
              "      <th>CHANGE_DATE</th>\n",
              "      <th>TIME_IN_STATUS_BY_OWNER_HRS</th>\n",
              "    </tr>\n",
              "  </thead>\n",
              "  <tbody>\n",
              "    <tr>\n",
              "      <th>0</th>\n",
              "      <td>IN10028612</td>\n",
              "      <td>QUEUED</td>\n",
              "      <td>DC000152</td>\n",
              "      <td>Middleware</td>\n",
              "      <td>Middleware</td>\n",
              "      <td>01APR2016:00:03:12</td>\n",
              "      <td>8.383333</td>\n",
              "    </tr>\n",
              "    <tr>\n",
              "      <th>1</th>\n",
              "      <td>IN10028612</td>\n",
              "      <td>RESOLVED</td>\n",
              "      <td>DC000152</td>\n",
              "      <td>Middleware</td>\n",
              "      <td>Middleware</td>\n",
              "      <td>01APR2016:08:26:30</td>\n",
              "      <td>0.000000</td>\n",
              "    </tr>\n",
              "    <tr>\n",
              "      <th>2</th>\n",
              "      <td>IN10028612</td>\n",
              "      <td>CLOSED</td>\n",
              "      <td>DC000152</td>\n",
              "      <td>Middleware</td>\n",
              "      <td>Middleware</td>\n",
              "      <td>12APR2016:05:30:11</td>\n",
              "      <td>NaN</td>\n",
              "    </tr>\n",
              "    <tr>\n",
              "      <th>3</th>\n",
              "      <td>IN10028613</td>\n",
              "      <td>QUEUED</td>\n",
              "      <td>NDS00032</td>\n",
              "      <td>Midrange</td>\n",
              "      <td>Midrange - Windows -X86</td>\n",
              "      <td>01APR2016:01:04:45</td>\n",
              "      <td>64.100000</td>\n",
              "    </tr>\n",
              "    <tr>\n",
              "      <th>4</th>\n",
              "      <td>IN10028613</td>\n",
              "      <td>RESOLVED</td>\n",
              "      <td>NDS00032</td>\n",
              "      <td>Midrange</td>\n",
              "      <td>Midrange - Windows -X86</td>\n",
              "      <td>11APR2016:11:06:12</td>\n",
              "      <td>0.000000</td>\n",
              "    </tr>\n",
              "  </tbody>\n",
              "</table>\n",
              "</div>\n",
              "      <button class=\"colab-df-convert\" onclick=\"convertToInteractive('df-86b85f3c-77ca-4af1-8167-0b7eb69a265a')\"\n",
              "              title=\"Convert this dataframe to an interactive table.\"\n",
              "              style=\"display:none;\">\n",
              "        \n",
              "  <svg xmlns=\"http://www.w3.org/2000/svg\" height=\"24px\"viewBox=\"0 0 24 24\"\n",
              "       width=\"24px\">\n",
              "    <path d=\"M0 0h24v24H0V0z\" fill=\"none\"/>\n",
              "    <path d=\"M18.56 5.44l.94 2.06.94-2.06 2.06-.94-2.06-.94-.94-2.06-.94 2.06-2.06.94zm-11 1L8.5 8.5l.94-2.06 2.06-.94-2.06-.94L8.5 2.5l-.94 2.06-2.06.94zm10 10l.94 2.06.94-2.06 2.06-.94-2.06-.94-.94-2.06-.94 2.06-2.06.94z\"/><path d=\"M17.41 7.96l-1.37-1.37c-.4-.4-.92-.59-1.43-.59-.52 0-1.04.2-1.43.59L10.3 9.45l-7.72 7.72c-.78.78-.78 2.05 0 2.83L4 21.41c.39.39.9.59 1.41.59.51 0 1.02-.2 1.41-.59l7.78-7.78 2.81-2.81c.8-.78.8-2.07 0-2.86zM5.41 20L4 18.59l7.72-7.72 1.47 1.35L5.41 20z\"/>\n",
              "  </svg>\n",
              "      </button>\n",
              "      \n",
              "  <style>\n",
              "    .colab-df-container {\n",
              "      display:flex;\n",
              "      flex-wrap:wrap;\n",
              "      gap: 12px;\n",
              "    }\n",
              "\n",
              "    .colab-df-convert {\n",
              "      background-color: #E8F0FE;\n",
              "      border: none;\n",
              "      border-radius: 50%;\n",
              "      cursor: pointer;\n",
              "      display: none;\n",
              "      fill: #1967D2;\n",
              "      height: 32px;\n",
              "      padding: 0 0 0 0;\n",
              "      width: 32px;\n",
              "    }\n",
              "\n",
              "    .colab-df-convert:hover {\n",
              "      background-color: #E2EBFA;\n",
              "      box-shadow: 0px 1px 2px rgba(60, 64, 67, 0.3), 0px 1px 3px 1px rgba(60, 64, 67, 0.15);\n",
              "      fill: #174EA6;\n",
              "    }\n",
              "\n",
              "    [theme=dark] .colab-df-convert {\n",
              "      background-color: #3B4455;\n",
              "      fill: #D2E3FC;\n",
              "    }\n",
              "\n",
              "    [theme=dark] .colab-df-convert:hover {\n",
              "      background-color: #434B5C;\n",
              "      box-shadow: 0px 1px 3px 1px rgba(0, 0, 0, 0.15);\n",
              "      filter: drop-shadow(0px 1px 2px rgba(0, 0, 0, 0.3));\n",
              "      fill: #FFFFFF;\n",
              "    }\n",
              "  </style>\n",
              "\n",
              "      <script>\n",
              "        const buttonEl =\n",
              "          document.querySelector('#df-86b85f3c-77ca-4af1-8167-0b7eb69a265a button.colab-df-convert');\n",
              "        buttonEl.style.display =\n",
              "          google.colab.kernel.accessAllowed ? 'block' : 'none';\n",
              "\n",
              "        async function convertToInteractive(key) {\n",
              "          const element = document.querySelector('#df-86b85f3c-77ca-4af1-8167-0b7eb69a265a');\n",
              "          const dataTable =\n",
              "            await google.colab.kernel.invokeFunction('convertToInteractive',\n",
              "                                                     [key], {});\n",
              "          if (!dataTable) return;\n",
              "\n",
              "          const docLinkHtml = 'Like what you see? Visit the ' +\n",
              "            '<a target=\"_blank\" href=https://colab.research.google.com/notebooks/data_table.ipynb>data table notebook</a>'\n",
              "            + ' to learn more about interactive tables.';\n",
              "          element.innerHTML = '';\n",
              "          dataTable['output_type'] = 'display_data';\n",
              "          await google.colab.output.renderOutput(dataTable, element);\n",
              "          const docLink = document.createElement('div');\n",
              "          docLink.innerHTML = docLinkHtml;\n",
              "          element.appendChild(docLink);\n",
              "        }\n",
              "      </script>\n",
              "    </div>\n",
              "  </div>\n",
              "  "
            ],
            "text/plain": [
              "  ticket_nmbr    STATUS  ...         CHANGE_DATE TIME_IN_STATUS_BY_OWNER_HRS\n",
              "0  IN10028612    QUEUED  ...  01APR2016:00:03:12                    8.383333\n",
              "1  IN10028612  RESOLVED  ...  01APR2016:08:26:30                    0.000000\n",
              "2  IN10028612    CLOSED  ...  12APR2016:05:30:11                         NaN\n",
              "3  IN10028613    QUEUED  ...  01APR2016:01:04:45                   64.100000\n",
              "4  IN10028613  RESOLVED  ...  11APR2016:11:06:12                    0.000000\n",
              "\n",
              "[5 rows x 7 columns]"
            ]
          },
          "metadata": {},
          "execution_count": 9
        }
      ]
    },
    {
      "cell_type": "code",
      "source": [
        "inc.head()"
      ],
      "metadata": {
        "id": "ipAsLa4dLLF_",
        "colab": {
          "base_uri": "https://localhost:8080/",
          "height": 392
        },
        "outputId": "24cd9091-de11-4470-cd54-73c588b6f835"
      },
      "execution_count": 10,
      "outputs": [
        {
          "output_type": "execute_result",
          "data": {
            "text/html": [
              "\n",
              "  <div id=\"df-95b80ee3-faac-41aa-97e3-e81383d2260f\">\n",
              "    <div class=\"colab-df-container\">\n",
              "      <div>\n",
              "<style scoped>\n",
              "    .dataframe tbody tr th:only-of-type {\n",
              "        vertical-align: middle;\n",
              "    }\n",
              "\n",
              "    .dataframe tbody tr th {\n",
              "        vertical-align: top;\n",
              "    }\n",
              "\n",
              "    .dataframe thead th {\n",
              "        text-align: right;\n",
              "    }\n",
              "</style>\n",
              "<table border=\"1\" class=\"dataframe\">\n",
              "  <thead>\n",
              "    <tr style=\"text-align: right;\">\n",
              "      <th></th>\n",
              "      <th>TICKET_NMBR</th>\n",
              "      <th>PARENT_SERVICE</th>\n",
              "      <th>service</th>\n",
              "      <th>org_id</th>\n",
              "      <th>ASSIGNED_GROUP</th>\n",
              "      <th>OPEN_DATE</th>\n",
              "      <th>CLOSE_DATE</th>\n",
              "      <th>PRIORITY</th>\n",
              "      <th>STATUS</th>\n",
              "      <th>ACTUAL_COMPLETION_HRS</th>\n",
              "      <th>BUSINESS_COMPLETION_HRS</th>\n",
              "      <th>AGING</th>\n",
              "      <th>CLASS_STRUCTURE_ID</th>\n",
              "      <th>class_structure</th>\n",
              "      <th>CLASSIFICATION_ID</th>\n",
              "      <th>classification</th>\n",
              "      <th>EXTERNAL_SYSTEM</th>\n",
              "      <th>GLOBAL_TICKET_ID</th>\n",
              "      <th>CLOSURE_CODE</th>\n",
              "      <th>LAST_MODIFIED_DATE</th>\n",
              "    </tr>\n",
              "  </thead>\n",
              "  <tbody>\n",
              "    <tr>\n",
              "      <th>0</th>\n",
              "      <td>IN10028612</td>\n",
              "      <td>Middleware</td>\n",
              "      <td>Middleware</td>\n",
              "      <td>1342.0</td>\n",
              "      <td>DC000152</td>\n",
              "      <td>01APR2016:00:01:16</td>\n",
              "      <td>01APR2016:08:26:30</td>\n",
              "      <td>Low</td>\n",
              "      <td>CLOSED</td>\n",
              "      <td>8.42</td>\n",
              "      <td>1.43</td>\n",
              "      <td>NaN</td>\n",
              "      <td>2101</td>\n",
              "      <td>IT Issue \\ Hardware</td>\n",
              "      <td>2101</td>\n",
              "      <td>Hardware Issue</td>\n",
              "      <td>EVENTMANAGEMENT</td>\n",
              "      <td>NaN</td>\n",
              "      <td>OTH</td>\n",
              "      <td>12APR2016:05:30:11</td>\n",
              "    </tr>\n",
              "    <tr>\n",
              "      <th>1</th>\n",
              "      <td>IN10028613</td>\n",
              "      <td>Midrange</td>\n",
              "      <td>Midrange - Windows -X86</td>\n",
              "      <td>1342.0</td>\n",
              "      <td>NDS00032</td>\n",
              "      <td>01APR2016:00:35:21</td>\n",
              "      <td>11APR2016:11:06:12</td>\n",
              "      <td>Low</td>\n",
              "      <td>CLOSED</td>\n",
              "      <td>250.51</td>\n",
              "      <td>64.10</td>\n",
              "      <td>NaN</td>\n",
              "      <td>21</td>\n",
              "      <td>IT Issue</td>\n",
              "      <td>21</td>\n",
              "      <td>IT Issue</td>\n",
              "      <td>EVENTMANAGEMENT</td>\n",
              "      <td>NaN</td>\n",
              "      <td>CIS</td>\n",
              "      <td>22APR2016:05:30:33</td>\n",
              "    </tr>\n",
              "    <tr>\n",
              "      <th>2</th>\n",
              "      <td>IN10028614</td>\n",
              "      <td>Mainframe</td>\n",
              "      <td>Mainframe</td>\n",
              "      <td>1065.0</td>\n",
              "      <td>DC000155</td>\n",
              "      <td>01APR2016:01:43:26</td>\n",
              "      <td>01APR2016:10:28:51</td>\n",
              "      <td>Low</td>\n",
              "      <td>CLOSED</td>\n",
              "      <td>8.76</td>\n",
              "      <td>3.47</td>\n",
              "      <td>NaN</td>\n",
              "      <td>3102</td>\n",
              "      <td>IT Request \\ Software Request</td>\n",
              "      <td>3102</td>\n",
              "      <td>Software Request</td>\n",
              "      <td>CREATEDFROMSR</td>\n",
              "      <td>NaN</td>\n",
              "      <td>SUP</td>\n",
              "      <td>12APR2016:05:30:09</td>\n",
              "    </tr>\n",
              "    <tr>\n",
              "      <th>3</th>\n",
              "      <td>IN10028615</td>\n",
              "      <td>High-performance Computing</td>\n",
              "      <td>High-performance Computing</td>\n",
              "      <td>1342.0</td>\n",
              "      <td>DC000133</td>\n",
              "      <td>01APR2016:02:57:00</td>\n",
              "      <td>01APR2016:07:42:08</td>\n",
              "      <td>Low</td>\n",
              "      <td>CLOSED</td>\n",
              "      <td>4.75</td>\n",
              "      <td>0.70</td>\n",
              "      <td>NaN</td>\n",
              "      <td>3102</td>\n",
              "      <td>IT Request \\ Software Request</td>\n",
              "      <td>3102</td>\n",
              "      <td>Software Request</td>\n",
              "      <td>EVENTMANAGEMENT</td>\n",
              "      <td>NaN</td>\n",
              "      <td>OSD</td>\n",
              "      <td>12APR2016:05:30:10</td>\n",
              "    </tr>\n",
              "    <tr>\n",
              "      <th>4</th>\n",
              "      <td>IN10028616</td>\n",
              "      <td>NaN</td>\n",
              "      <td>-1</td>\n",
              "      <td>1342.0</td>\n",
              "      <td>NaN</td>\n",
              "      <td>01APR2016:05:21:02</td>\n",
              "      <td>01APR2016:05:23:39</td>\n",
              "      <td>Low</td>\n",
              "      <td>CLOSED</td>\n",
              "      <td>0.04</td>\n",
              "      <td>0.00</td>\n",
              "      <td>NaN</td>\n",
              "      <td>2103</td>\n",
              "      <td>IT Issue \\ Networks</td>\n",
              "      <td>2103</td>\n",
              "      <td>Networks Issue</td>\n",
              "      <td>PHONECALL</td>\n",
              "      <td>NaN</td>\n",
              "      <td>AUT</td>\n",
              "      <td>11APR2016:05:30:07</td>\n",
              "    </tr>\n",
              "  </tbody>\n",
              "</table>\n",
              "</div>\n",
              "      <button class=\"colab-df-convert\" onclick=\"convertToInteractive('df-95b80ee3-faac-41aa-97e3-e81383d2260f')\"\n",
              "              title=\"Convert this dataframe to an interactive table.\"\n",
              "              style=\"display:none;\">\n",
              "        \n",
              "  <svg xmlns=\"http://www.w3.org/2000/svg\" height=\"24px\"viewBox=\"0 0 24 24\"\n",
              "       width=\"24px\">\n",
              "    <path d=\"M0 0h24v24H0V0z\" fill=\"none\"/>\n",
              "    <path d=\"M18.56 5.44l.94 2.06.94-2.06 2.06-.94-2.06-.94-.94-2.06-.94 2.06-2.06.94zm-11 1L8.5 8.5l.94-2.06 2.06-.94-2.06-.94L8.5 2.5l-.94 2.06-2.06.94zm10 10l.94 2.06.94-2.06 2.06-.94-2.06-.94-.94-2.06-.94 2.06-2.06.94z\"/><path d=\"M17.41 7.96l-1.37-1.37c-.4-.4-.92-.59-1.43-.59-.52 0-1.04.2-1.43.59L10.3 9.45l-7.72 7.72c-.78.78-.78 2.05 0 2.83L4 21.41c.39.39.9.59 1.41.59.51 0 1.02-.2 1.41-.59l7.78-7.78 2.81-2.81c.8-.78.8-2.07 0-2.86zM5.41 20L4 18.59l7.72-7.72 1.47 1.35L5.41 20z\"/>\n",
              "  </svg>\n",
              "      </button>\n",
              "      \n",
              "  <style>\n",
              "    .colab-df-container {\n",
              "      display:flex;\n",
              "      flex-wrap:wrap;\n",
              "      gap: 12px;\n",
              "    }\n",
              "\n",
              "    .colab-df-convert {\n",
              "      background-color: #E8F0FE;\n",
              "      border: none;\n",
              "      border-radius: 50%;\n",
              "      cursor: pointer;\n",
              "      display: none;\n",
              "      fill: #1967D2;\n",
              "      height: 32px;\n",
              "      padding: 0 0 0 0;\n",
              "      width: 32px;\n",
              "    }\n",
              "\n",
              "    .colab-df-convert:hover {\n",
              "      background-color: #E2EBFA;\n",
              "      box-shadow: 0px 1px 2px rgba(60, 64, 67, 0.3), 0px 1px 3px 1px rgba(60, 64, 67, 0.15);\n",
              "      fill: #174EA6;\n",
              "    }\n",
              "\n",
              "    [theme=dark] .colab-df-convert {\n",
              "      background-color: #3B4455;\n",
              "      fill: #D2E3FC;\n",
              "    }\n",
              "\n",
              "    [theme=dark] .colab-df-convert:hover {\n",
              "      background-color: #434B5C;\n",
              "      box-shadow: 0px 1px 3px 1px rgba(0, 0, 0, 0.15);\n",
              "      filter: drop-shadow(0px 1px 2px rgba(0, 0, 0, 0.3));\n",
              "      fill: #FFFFFF;\n",
              "    }\n",
              "  </style>\n",
              "\n",
              "      <script>\n",
              "        const buttonEl =\n",
              "          document.querySelector('#df-95b80ee3-faac-41aa-97e3-e81383d2260f button.colab-df-convert');\n",
              "        buttonEl.style.display =\n",
              "          google.colab.kernel.accessAllowed ? 'block' : 'none';\n",
              "\n",
              "        async function convertToInteractive(key) {\n",
              "          const element = document.querySelector('#df-95b80ee3-faac-41aa-97e3-e81383d2260f');\n",
              "          const dataTable =\n",
              "            await google.colab.kernel.invokeFunction('convertToInteractive',\n",
              "                                                     [key], {});\n",
              "          if (!dataTable) return;\n",
              "\n",
              "          const docLinkHtml = 'Like what you see? Visit the ' +\n",
              "            '<a target=\"_blank\" href=https://colab.research.google.com/notebooks/data_table.ipynb>data table notebook</a>'\n",
              "            + ' to learn more about interactive tables.';\n",
              "          element.innerHTML = '';\n",
              "          dataTable['output_type'] = 'display_data';\n",
              "          await google.colab.output.renderOutput(dataTable, element);\n",
              "          const docLink = document.createElement('div');\n",
              "          docLink.innerHTML = docLinkHtml;\n",
              "          element.appendChild(docLink);\n",
              "        }\n",
              "      </script>\n",
              "    </div>\n",
              "  </div>\n",
              "  "
            ],
            "text/plain": [
              "  TICKET_NMBR              PARENT_SERVICE  ... CLOSURE_CODE  LAST_MODIFIED_DATE\n",
              "0  IN10028612                  Middleware  ...          OTH  12APR2016:05:30:11\n",
              "1  IN10028613                    Midrange  ...          CIS  22APR2016:05:30:33\n",
              "2  IN10028614                   Mainframe  ...          SUP  12APR2016:05:30:09\n",
              "3  IN10028615  High-performance Computing  ...          OSD  12APR2016:05:30:10\n",
              "4  IN10028616                         NaN  ...          AUT  11APR2016:05:30:07\n",
              "\n",
              "[5 rows x 20 columns]"
            ]
          },
          "metadata": {},
          "execution_count": 10
        }
      ]
    },
    {
      "cell_type": "code",
      "source": [
        ""
      ],
      "metadata": {
        "id": "9qddEWLTLLI4"
      },
      "execution_count": 10,
      "outputs": []
    },
    {
      "cell_type": "markdown",
      "source": [
        "# 1. Average time that incidents spend in a particular status."
      ],
      "metadata": {
        "id": "kuNeAenfKeMz"
      }
    },
    {
      "cell_type": "code",
      "source": [
        "graph_labels('Tickets status','count',\"Tickets status\")\n",
        "inc_hist['STATUS'].hist();"
      ],
      "metadata": {
        "colab": {
          "base_uri": "https://localhost:8080/",
          "height": 467
        },
        "id": "713D9ik0CCZL",
        "outputId": "043fa0c6-ec39-42a7-b1e7-31c47e9fd56d"
      },
      "execution_count": 11,
      "outputs": [
        {
          "output_type": "display_data",
          "data": {
            "image/png": "[encoded data removed]",
            "text/plain": [
              "<Figure size 1080x504 with 1 Axes>"
            ]
          },
          "metadata": {
            "needs_background": "light"
          }
        }
      ]
    },
    {
      "cell_type": "code",
      "source": [
        "graph_labels('TIME_IN_STATUS_HRS','count',\"Hours for queued tickets\")\n",
        "ticks=[10,12.5,16,20,25,30,40,50,60,80,100,125,160,200,250,320,400,500,630]\n",
        "bins= 10**np.arange(1,3,0.1)\n",
        "plot_hist_log('TIME_IN_STATUS_HRS',ticks,bins,inc_hist[inc_hist['STATUS']==\"QUEUED\"])\n"
      ],
      "metadata": {
        "colab": {
          "base_uri": "https://localhost:8080/",
          "height": 467
        },
        "id": "TU8UGe77DzHQ",
        "outputId": "a4402524-11d3-47bb-dd19-19c7c726b9f6"
      },
      "execution_count": 12,
      "outputs": [
        {
          "output_type": "display_data",
          "data": {
            "image/png": "[encoded data removed]",
            "text/plain": [
              "<Figure size 1080x504 with 1 Axes>"
            ]
          },
          "metadata": {
            "needs_background": "light"
          }
        }
      ]
    },
    {
      "cell_type": "code",
      "source": [
        "inc_hist[inc_hist['STATUS']==\"QUEUED\"]['TIME_IN_STATUS_HRS'].mean()"
      ],
      "metadata": {
        "colab": {
          "base_uri": "https://localhost:8080/"
        },
        "id": "1VCD0xbKFiK7",
        "outputId": "4b7d2adc-cfda-4036-805d-7044d08e0252"
      },
      "execution_count": 13,
      "outputs": [
        {
          "output_type": "execute_result",
          "data": {
            "text/plain": [
              "24.71588358210574"
            ]
          },
          "metadata": {},
          "execution_count": 13
        }
      ]
    },
    {
      "cell_type": "markdown",
      "source": [
        "# 2. Number of times an incident is reassigned during the life of the ticket."
      ],
      "metadata": {
        "id": "W0ILpfLIKeP0"
      }
    },
    {
      "cell_type": "code",
      "source": [
        "time_reassigned = inc_own[['ticket_nmbr','assigned_group']].value_counts().reset_index(name='counts')\n",
        "time_reassigned\n"
      ],
      "metadata": {
        "colab": {
          "base_uri": "https://localhost:8080/",
          "height": 424
        },
        "id": "k4jahscwPGYe",
        "outputId": "88e53700-3b7c-47f3-bcf6-bee4a86fd009"
      },
      "execution_count": 14,
      "outputs": [
        {
          "output_type": "execute_result",
          "data": {
            "text/html": [
              "\n",
              "  <div id=\"df-4346a7c1-857f-405f-b232-2367b80b8f0a\">\n",
              "    <div class=\"colab-df-container\">\n",
              "      <div>\n",
              "<style scoped>\n",
              "    .dataframe tbody tr th:only-of-type {\n",
              "        vertical-align: middle;\n",
              "    }\n",
              "\n",
              "    .dataframe tbody tr th {\n",
              "        vertical-align: top;\n",
              "    }\n",
              "\n",
              "    .dataframe thead th {\n",
              "        text-align: right;\n",
              "    }\n",
              "</style>\n",
              "<table border=\"1\" class=\"dataframe\">\n",
              "  <thead>\n",
              "    <tr style=\"text-align: right;\">\n",
              "      <th></th>\n",
              "      <th>ticket_nmbr</th>\n",
              "      <th>assigned_group</th>\n",
              "      <th>counts</th>\n",
              "    </tr>\n",
              "  </thead>\n",
              "  <tbody>\n",
              "    <tr>\n",
              "      <th>0</th>\n",
              "      <td>IN10226326</td>\n",
              "      <td>ESI00011</td>\n",
              "      <td>23</td>\n",
              "    </tr>\n",
              "    <tr>\n",
              "      <th>1</th>\n",
              "      <td>IN10202380</td>\n",
              "      <td>ENT00005</td>\n",
              "      <td>18</td>\n",
              "    </tr>\n",
              "    <tr>\n",
              "      <th>2</th>\n",
              "      <td>IN10249814</td>\n",
              "      <td>ESI00011</td>\n",
              "      <td>18</td>\n",
              "    </tr>\n",
              "    <tr>\n",
              "      <th>3</th>\n",
              "      <td>IN10208946</td>\n",
              "      <td>NW000412</td>\n",
              "      <td>17</td>\n",
              "    </tr>\n",
              "    <tr>\n",
              "      <th>4</th>\n",
              "      <td>IN10180325</td>\n",
              "      <td>EDC00010</td>\n",
              "      <td>16</td>\n",
              "    </tr>\n",
              "    <tr>\n",
              "      <th>...</th>\n",
              "      <td>...</td>\n",
              "      <td>...</td>\n",
              "      <td>...</td>\n",
              "    </tr>\n",
              "    <tr>\n",
              "      <th>312628</th>\n",
              "      <td>IN10092377</td>\n",
              "      <td>EDC00053</td>\n",
              "      <td>1</td>\n",
              "    </tr>\n",
              "    <tr>\n",
              "      <th>312629</th>\n",
              "      <td>IN10092378</td>\n",
              "      <td>EDC00006</td>\n",
              "      <td>1</td>\n",
              "    </tr>\n",
              "    <tr>\n",
              "      <th>312630</th>\n",
              "      <td>IN10092385</td>\n",
              "      <td>DC000163</td>\n",
              "      <td>1</td>\n",
              "    </tr>\n",
              "    <tr>\n",
              "      <th>312631</th>\n",
              "      <td>IN10092387</td>\n",
              "      <td>NW000405</td>\n",
              "      <td>1</td>\n",
              "    </tr>\n",
              "    <tr>\n",
              "      <th>312632</th>\n",
              "      <td>IN10293555</td>\n",
              "      <td>DC000250</td>\n",
              "      <td>1</td>\n",
              "    </tr>\n",
              "  </tbody>\n",
              "</table>\n",
              "<p>312633 rows × 3 columns</p>\n",
              "</div>\n",
              "      <button class=\"colab-df-convert\" onclick=\"convertToInteractive('df-4346a7c1-857f-405f-b232-2367b80b8f0a')\"\n",
              "              title=\"Convert this dataframe to an interactive table.\"\n",
              "              style=\"display:none;\">\n",
              "        \n",
              "  <svg xmlns=\"http://www.w3.org/2000/svg\" height=\"24px\"viewBox=\"0 0 24 24\"\n",
              "       width=\"24px\">\n",
              "    <path d=\"M0 0h24v24H0V0z\" fill=\"none\"/>\n",
              "    <path d=\"M18.56 5.44l.94 2.06.94-2.06 2.06-.94-2.06-.94-.94-2.06-.94 2.06-2.06.94zm-11 1L8.5 8.5l.94-2.06 2.06-.94-2.06-.94L8.5 2.5l-.94 2.06-2.06.94zm10 10l.94 2.06.94-2.06 2.06-.94-2.06-.94-.94-2.06-.94 2.06-2.06.94z\"/><path d=\"M17.41 7.96l-1.37-1.37c-.4-.4-.92-.59-1.43-.59-.52 0-1.04.2-1.43.59L10.3 9.45l-7.72 7.72c-.78.78-.78 2.05 0 2.83L4 21.41c.39.39.9.59 1.41.59.51 0 1.02-.2 1.41-.59l7.78-7.78 2.81-2.81c.8-.78.8-2.07 0-2.86zM5.41 20L4 18.59l7.72-7.72 1.47 1.35L5.41 20z\"/>\n",
              "  </svg>\n",
              "      </button>\n",
              "      \n",
              "  <style>\n",
              "    .colab-df-container {\n",
              "      display:flex;\n",
              "      flex-wrap:wrap;\n",
              "      gap: 12px;\n",
              "    }\n",
              "\n",
              "    .colab-df-convert {\n",
              "      background-color: #E8F0FE;\n",
              "      border: none;\n",
              "      border-radius: 50%;\n",
              "      cursor: pointer;\n",
              "      display: none;\n",
              "      fill: #1967D2;\n",
              "      height: 32px;\n",
              "      padding: 0 0 0 0;\n",
              "      width: 32px;\n",
              "    }\n",
              "\n",
              "    .colab-df-convert:hover {\n",
              "      background-color: #E2EBFA;\n",
              "      box-shadow: 0px 1px 2px rgba(60, 64, 67, 0.3), 0px 1px 3px 1px rgba(60, 64, 67, 0.15);\n",
              "      fill: #174EA6;\n",
              "    }\n",
              "\n",
              "    [theme=dark] .colab-df-convert {\n",
              "      background-color: #3B4455;\n",
              "      fill: #D2E3FC;\n",
              "    }\n",
              "\n",
              "    [theme=dark] .colab-df-convert:hover {\n",
              "      background-color: #434B5C;\n",
              "      box-shadow: 0px 1px 3px 1px rgba(0, 0, 0, 0.15);\n",
              "      filter: drop-shadow(0px 1px 2px rgba(0, 0, 0, 0.3));\n",
              "      fill: #FFFFFF;\n",
              "    }\n",
              "  </style>\n",
              "\n",
              "      <script>\n",
              "        const buttonEl =\n",
              "          document.querySelector('#df-4346a7c1-857f-405f-b232-2367b80b8f0a button.colab-df-convert');\n",
              "        buttonEl.style.display =\n",
              "          google.colab.kernel.accessAllowed ? 'block' : 'none';\n",
              "\n",
              "        async function convertToInteractive(key) {\n",
              "          const element = document.querySelector('#df-4346a7c1-857f-405f-b232-2367b80b8f0a');\n",
              "          const dataTable =\n",
              "            await google.colab.kernel.invokeFunction('convertToInteractive',\n",
              "                                                     [key], {});\n",
              "          if (!dataTable) return;\n",
              "\n",
              "          const docLinkHtml = 'Like what you see? Visit the ' +\n",
              "            '<a target=\"_blank\" href=https://colab.research.google.com/notebooks/data_table.ipynb>data table notebook</a>'\n",
              "            + ' to learn more about interactive tables.';\n",
              "          element.innerHTML = '';\n",
              "          dataTable['output_type'] = 'display_data';\n",
              "          await google.colab.output.renderOutput(dataTable, element);\n",
              "          const docLink = document.createElement('div');\n",
              "          docLink.innerHTML = docLinkHtml;\n",
              "          element.appendChild(docLink);\n",
              "        }\n",
              "      </script>\n",
              "    </div>\n",
              "  </div>\n",
              "  "
            ],
            "text/plain": [
              "       ticket_nmbr assigned_group  counts\n",
              "0       IN10226326       ESI00011      23\n",
              "1       IN10202380       ENT00005      18\n",
              "2       IN10249814       ESI00011      18\n",
              "3       IN10208946       NW000412      17\n",
              "4       IN10180325       EDC00010      16\n",
              "...            ...            ...     ...\n",
              "312628  IN10092377       EDC00053       1\n",
              "312629  IN10092378       EDC00006       1\n",
              "312630  IN10092385       DC000163       1\n",
              "312631  IN10092387       NW000405       1\n",
              "312632  IN10293555       DC000250       1\n",
              "\n",
              "[312633 rows x 3 columns]"
            ]
          },
          "metadata": {},
          "execution_count": 14
        }
      ]
    },
    {
      "cell_type": "code",
      "source": [
        "graph_labels('time_reassigned','count',\"Times a ticket has ben reassigned\")\n",
        "ticks=[10,12.5,16,20,25,30,40,50]\n",
        "bins= 10**np.arange(1,3,0.1)\n",
        "plot_hist_log('counts',ticks,bins,time_reassigned)\n"
      ],
      "metadata": {
        "colab": {
          "base_uri": "https://localhost:8080/",
          "height": 468
        },
        "id": "qVachhMUSGQM",
        "outputId": "10256aa7-3e2e-44e4-cf48-95f49e3e670d"
      },
      "execution_count": 15,
      "outputs": [
        {
          "output_type": "display_data",
          "data": {
            "image/png": "[encoded data removed]",
            "text/plain": [
              "<Figure size 1080x504 with 1 Axes>"
            ]
          },
          "metadata": {
            "needs_background": "light"
          }
        }
      ]
    },
    {
      "cell_type": "code",
      "source": [
        "time_reassigned['counts'].mean()"
      ],
      "metadata": {
        "colab": {
          "base_uri": "https://localhost:8080/"
        },
        "id": "sMy7B8BcXvw7",
        "outputId": "6b0cb34a-abf7-4d7d-accb-8f03d00c0720"
      },
      "execution_count": 16,
      "outputs": [
        {
          "output_type": "execute_result",
          "data": {
            "text/plain": [
              "3.168910511686226"
            ]
          },
          "metadata": {},
          "execution_count": 16
        }
      ]
    },
    {
      "cell_type": "markdown",
      "source": [
        "# 3. Average time that incidents spend with a particular Support group (Assigned_Group).\n",
        "\n"
      ],
      "metadata": {
        "id": "_fomdtAnKeSe"
      }
    },
    {
      "cell_type": "code",
      "source": [
        "inc_own['assigned_group'].value_counts()"
      ],
      "metadata": {
        "colab": {
          "base_uri": "https://localhost:8080/"
        },
        "id": "XJZmKF32NLRB",
        "outputId": "7fd1b4f5-8893-4d96-f040-8931e994b3fc"
      },
      "execution_count": 17,
      "outputs": [
        {
          "output_type": "execute_result",
          "data": {
            "text/plain": [
              "DC000203    53382\n",
              "ESI00011    49729\n",
              "DC000152    42447\n",
              "NW000417    39619\n",
              "NW000412    37957\n",
              "            ...  \n",
              "AP000005        1\n",
              "NW000470        1\n",
              "AP000003        1\n",
              "NDS00010        1\n",
              "PM000620        1\n",
              "Name: assigned_group, Length: 587, dtype: int64"
            ]
          },
          "metadata": {},
          "execution_count": 17
        }
      ]
    },
    {
      "cell_type": "code",
      "source": [
        "graph_labels('TIME_IN_STATUS_BY_OWNER_HRS','count',\"TIME_IN_STATUS_BY DC000203 group\")\n",
        "ticks=[10,12.5,16,20,25,30,40,50,60,80,100,125,160,200,250,320,400,500,630]\n",
        "bins= 10**np.arange(1,3,0.1)\n",
        "plot_hist_log('TIME_IN_STATUS_BY_OWNER_HRS',ticks,bins,inc_own[inc_own['assigned_group']==\"DC000203\"])\n",
        "\n"
      ],
      "metadata": {
        "colab": {
          "base_uri": "https://localhost:8080/",
          "height": 466
        },
        "id": "z4wXnylqORe-",
        "outputId": "8f6cf4d0-f543-460e-b0f9-5ba563e8df64"
      },
      "execution_count": 18,
      "outputs": [
        {
          "output_type": "display_data",
          "data": {
            "image/png": "[encoded data removed]",
            "text/plain": [
              "<Figure size 1080x504 with 1 Axes>"
            ]
          },
          "metadata": {
            "needs_background": "light"
          }
        }
      ]
    },
    {
      "cell_type": "code",
      "source": [
        "inc_own[inc_own['assigned_group']==\"DC000203\"]['TIME_IN_STATUS_BY_OWNER_HRS'].mean()"
      ],
      "metadata": {
        "colab": {
          "base_uri": "https://localhost:8080/"
        },
        "id": "_zVpV5P2Om2Q",
        "outputId": "130633a7-d95c-4383-988b-8483956c4710"
      },
      "execution_count": 19,
      "outputs": [
        {
          "output_type": "execute_result",
          "data": {
            "text/plain": [
              "4.0326513904615755"
            ]
          },
          "metadata": {},
          "execution_count": 19
        }
      ]
    },
    {
      "cell_type": "markdown",
      "source": [
        "# 4. Mean time to restore service (MTRS), are there particular services that are taking longer on average to be restored?"
      ],
      "metadata": {
        "id": "79iQhVURKeVB"
      }
    },
    {
      "cell_type": "code",
      "source": [
        "graph_labels('Tickets status','count',\"Tickets status\")\n",
        "inc['STATUS'].hist();"
      ],
      "metadata": {
        "colab": {
          "base_uri": "https://localhost:8080/",
          "height": 467
        },
        "id": "4i7zz9vNYJW3",
        "outputId": "4f6e0aac-2f84-4cc1-8848-221389c46e7c"
      },
      "execution_count": 20,
      "outputs": [
        {
          "output_type": "display_data",
          "data": {
            "image/png": "[encoded data removed]",
            "text/plain": [
              "<Figure size 1080x504 with 1 Axes>"
            ]
          },
          "metadata": {
            "needs_background": "light"
          }
        }
      ]
    },
    {
      "cell_type": "markdown",
      "source": [
        "## Actaul hours"
      ],
      "metadata": {
        "id": "ZjqINqYEjvY-"
      }
    },
    {
      "cell_type": "code",
      "source": [
        "graph_labels('ACTUAL_COMPLETION_HRS','count',\"Actual completion hours for closed tickets\")\n",
        "ticks=[10,12.5,16,20,25,30,40,50,60,80,100,125,160,200,250,320,400,500,630]\n",
        "bins= 10**np.arange(1,3,0.1)\n",
        "plot_hist_log('ACTUAL_COMPLETION_HRS',ticks,bins,inc[inc['STATUS']==\"CLOSED\"])\n"
      ],
      "metadata": {
        "colab": {
          "base_uri": "https://localhost:8080/",
          "height": 467
        },
        "id": "QCLygr8g7ngV",
        "outputId": "dca87c9b-e492-45b1-bf49-0bcbbb378f50"
      },
      "execution_count": 21,
      "outputs": [
        {
          "output_type": "display_data",
          "data": {
            "image/png": "[encoded data removed]",
            "text/plain": [
              "<Figure size 1080x504 with 1 Axes>"
            ]
          },
          "metadata": {
            "needs_background": "light"
          }
        }
      ]
    },
    {
      "cell_type": "code",
      "source": [
        "inc[inc['STATUS']==\"CLOSED\"]['ACTUAL_COMPLETION_HRS'].mean()"
      ],
      "metadata": {
        "colab": {
          "base_uri": "https://localhost:8080/"
        },
        "id": "8jXJH2XUBpIo",
        "outputId": "fdc6a8c7-9905-49a9-f921-62075e4d09c2"
      },
      "execution_count": 22,
      "outputs": [
        {
          "output_type": "execute_result",
          "data": {
            "text/plain": [
              "263.47101343486446"
            ]
          },
          "metadata": {},
          "execution_count": 22
        }
      ]
    },
    {
      "cell_type": "code",
      "source": [
        "temp=inc[inc['STATUS']==\"CLOSED\"]\n",
        "temp[temp['ACTUAL_COMPLETION_HRS']>263]['service'].value_counts()"
      ],
      "metadata": {
        "colab": {
          "base_uri": "https://localhost:8080/"
        },
        "id": "xWz67ymXiw-X",
        "outputId": "68a115f1-ad0d-4242-ec01-05eef758513b"
      },
      "execution_count": 23,
      "outputs": [
        {
          "output_type": "execute_result",
          "data": {
            "text/plain": [
              "Other - Service Management             4079\n",
              "IBN - GC LAN                           3020\n",
              "GC WAN                                 2917\n",
              "Fixed Line                             2406\n",
              "Midrange - Windows -X86                2396\n",
              "                                       ... \n",
              "IBN - Cabling                             1\n",
              "IT Continuity Support Service             1\n",
              "Bulk Print                                1\n",
              "Solutions Integration Service (SIS)       1\n",
              "Internet                                  1\n",
              "Name: service, Length: 62, dtype: int64"
            ]
          },
          "metadata": {},
          "execution_count": 23
        }
      ]
    },
    {
      "cell_type": "markdown",
      "source": [
        "## Business Hours"
      ],
      "metadata": {
        "id": "TtSr-zKij1C4"
      }
    },
    {
      "cell_type": "code",
      "source": [
        "graph_labels('BUSINESS_COMPLETION_HRS','count',\"Business completion hours for closed tickets\")\n",
        "ticks=[10,12.5,16,20,25,30,40,50,60,80,100,125,160,200,250,320,400,500,630]\n",
        "bins= 10**np.arange(1,3,0.1)\n",
        "plot_hist_log('BUSINESS_COMPLETION_HRS',ticks,bins,inc[inc['STATUS']==\"CLOSED\"])\n"
      ],
      "metadata": {
        "colab": {
          "base_uri": "https://localhost:8080/",
          "height": 467
        },
        "id": "ALO1Lky2j35Y",
        "outputId": "52c2eb0d-3b79-4a3d-9980-1fca3b418535"
      },
      "execution_count": 24,
      "outputs": [
        {
          "output_type": "display_data",
          "data": {
            "image/png": "[encoded data removed]",
            "text/plain": [
              "<Figure size 1080x504 with 1 Axes>"
            ]
          },
          "metadata": {
            "needs_background": "light"
          }
        }
      ]
    },
    {
      "cell_type": "code",
      "source": [
        "inc[inc['STATUS']==\"CLOSED\"]['BUSINESS_COMPLETION_HRS'].mean()"
      ],
      "metadata": {
        "colab": {
          "base_uri": "https://localhost:8080/"
        },
        "id": "2YEv5Brxj-4H",
        "outputId": "d73e00a1-d4e7-4c34-ab01-cb75b95af18e"
      },
      "execution_count": 25,
      "outputs": [
        {
          "output_type": "execute_result",
          "data": {
            "text/plain": [
              "80.58138262708502"
            ]
          },
          "metadata": {},
          "execution_count": 25
        }
      ]
    },
    {
      "cell_type": "code",
      "source": [
        "temp[temp['BUSINESS_COMPLETION_HRS']>80]['service'].value_counts()"
      ],
      "metadata": {
        "colab": {
          "base_uri": "https://localhost:8080/"
        },
        "id": "OLN0uOfKkDLm",
        "outputId": "86478d6e-0589-4756-a461-fe33d87841ad"
      },
      "execution_count": 26,
      "outputs": [
        {
          "output_type": "execute_result",
          "data": {
            "text/plain": [
              "Other - Service Management             3923\n",
              "IBN - GC LAN                           2937\n",
              "GC WAN                                 2823\n",
              "Midrange - Windows -X86                2250\n",
              "Fixed Line                             2167\n",
              "                                       ... \n",
              "IBN - Cabling                             1\n",
              "IT Continuity Support Service             1\n",
              "Bulk Print                                1\n",
              "Solutions Integration Service (SIS)       1\n",
              "Internet                                  1\n",
              "Name: service, Length: 62, dtype: int64"
            ]
          },
          "metadata": {},
          "execution_count": 26
        }
      ]
    },
    {
      "cell_type": "markdown",
      "source": [
        "# 5. Is there a correlation between the number of times an incident is reassigned and how long it takes to restore?"
      ],
      "metadata": {
        "id": "qnLehrCIKeX7"
      }
    },
    {
      "cell_type": "markdown",
      "source": [
        "Goups that has reassign number greater than the avg\n"
      ],
      "metadata": {
        "id": "K0GloldqmNUc"
      }
    },
    {
      "cell_type": "code",
      "source": [
        "time_reassigned['counts'].mean()"
      ],
      "metadata": {
        "colab": {
          "base_uri": "https://localhost:8080/"
        },
        "id": "a4UKcrHkmU6x",
        "outputId": "6d458663-2f0e-4505-8372-0a7ff4daeef0"
      },
      "execution_count": 27,
      "outputs": [
        {
          "output_type": "execute_result",
          "data": {
            "text/plain": [
              "3.168910511686226"
            ]
          },
          "metadata": {},
          "execution_count": 27
        }
      ]
    },
    {
      "cell_type": "code",
      "source": [
        "\n",
        "time_reassigned[time_reassigned['counts']>15]['assigned_group'].hist();"
      ],
      "metadata": {
        "colab": {
          "base_uri": "https://localhost:8080/",
          "height": 265
        },
        "id": "kmhjudgLmCsx",
        "outputId": "1d66f33f-4c30-4c7b-bc37-d361041b6aa3"
      },
      "execution_count": 28,
      "outputs": [
        {
          "output_type": "display_data",
          "data": {
            "image/png": "[encoded data removed]",
            "text/plain": [
              "<Figure size 432x288 with 1 Axes>"
            ]
          },
          "metadata": {
            "needs_background": "light"
          }
        }
      ]
    },
    {
      "cell_type": "code",
      "source": [
        "\n",
        "inc_own['reassign_times']=[time_reassigned.iloc[i,'counts'] if time_reassigned.iloc[i,'assigned_group'] == inc_own['assigned_group'] ]"
      ],
      "metadata": {
        "colab": {
          "base_uri": "https://localhost:8080/",
          "height": 167
        },
        "id": "AaslaHJBuLa-",
        "outputId": "63cc802a-65e5-4778-b756-63a024cf11d7"
      },
      "execution_count": 60,
      "outputs": [
        {
          "output_type": "error",
          "ename": "SyntaxError",
          "evalue": "ignored",
          "traceback": [
            "\u001b[0;36m  File \u001b[0;32m\"<ipython-input-60-b77a8ee1f10e>\"\u001b[0;36m, line \u001b[0;32m2\u001b[0m\n\u001b[0;31m    inc_own['reassign_times']=[time_reassigned.iloc[i,'counts'] if (time_reassigned.iloc[i,'assigned_group'] == inc_own.iloc[i,'assigned_group']) ]\u001b[0m\n\u001b[0m                                                                                                                                                  ^\u001b[0m\n\u001b[0;31mSyntaxError\u001b[0m\u001b[0;31m:\u001b[0m invalid syntax\n"
          ]
        }
      ]
    },
    {
      "cell_type": "markdown",
      "source": [
        "# 6. Are there particular organizations for whom it takes longer on average to restore services?"
      ],
      "metadata": {
        "id": "9Llo7PPLKebO"
      }
    },
    {
      "cell_type": "markdown",
      "source": [
        "## Actual Hours"
      ],
      "metadata": {
        "id": "gaf168h34THE"
      }
    },
    {
      "cell_type": "code",
      "source": [
        "inc[inc['STATUS']==\"CLOSED\"]['ACTUAL_COMPLETION_HRS'].mean()"
      ],
      "metadata": {
        "colab": {
          "base_uri": "https://localhost:8080/"
        },
        "id": "vX4R-kG44SEF",
        "outputId": "13e8337c-7753-46d1-aad9-e851f2cb74b2"
      },
      "execution_count": 61,
      "outputs": [
        {
          "output_type": "execute_result",
          "data": {
            "text/plain": [
              "263.47101343486446"
            ]
          },
          "metadata": {},
          "execution_count": 61
        }
      ]
    },
    {
      "cell_type": "code",
      "source": [
        "temp=inc[inc['STATUS']==\"CLOSED\"]\n",
        "temp[temp['ACTUAL_COMPLETION_HRS']>263]['org_id'].value_counts()"
      ],
      "metadata": {
        "colab": {
          "base_uri": "https://localhost:8080/"
        },
        "id": "RT7e7GfM4XP-",
        "outputId": "8a98c5f1-69de-4a9d-dc9f-3fc65dec2828"
      },
      "execution_count": 63,
      "outputs": [
        {
          "output_type": "execute_result",
          "data": {
            "text/plain": [
              "1342.0    8765\n",
              "1047.0    3875\n",
              "1062.0    3573\n",
              "1042.0    1921\n",
              "1028.0    1915\n",
              "          ... \n",
              "1337.0       1\n",
              "1182.0       1\n",
              "1205.0       1\n",
              "948.0        1\n",
              "930.0        1\n",
              "Name: org_id, Length: 64, dtype: int64"
            ]
          },
          "metadata": {},
          "execution_count": 63
        }
      ]
    },
    {
      "cell_type": "markdown",
      "source": [
        "## Business Hours"
      ],
      "metadata": {
        "id": "_2Ojzdwn4-Xu"
      }
    },
    {
      "cell_type": "code",
      "source": [
        "inc[inc['STATUS']==\"CLOSED\"]['BUSINESS_COMPLETION_HRS'].mean()"
      ],
      "metadata": {
        "colab": {
          "base_uri": "https://localhost:8080/"
        },
        "id": "U86_aOSz5Ank",
        "outputId": "9338fe06-fcee-43c7-f2a4-7e12c0d0cf3b"
      },
      "execution_count": 67,
      "outputs": [
        {
          "output_type": "execute_result",
          "data": {
            "text/plain": [
              "80.58138262708502"
            ]
          },
          "metadata": {},
          "execution_count": 67
        }
      ]
    },
    {
      "cell_type": "code",
      "source": [
        "temp=inc[inc['STATUS']==\"CLOSED\"]\n",
        "temp[temp['BUSINESS_COMPLETION_HRS']>80]['org_id'].value_counts()"
      ],
      "metadata": {
        "colab": {
          "base_uri": "https://localhost:8080/"
        },
        "id": "D5P82PWP5GHH",
        "outputId": "bf7c2c4a-63e9-4033-c105-8c5b636afb16"
      },
      "execution_count": 68,
      "outputs": [
        {
          "output_type": "execute_result",
          "data": {
            "text/plain": [
              "1342.0    8327\n",
              "1047.0    3721\n",
              "1062.0    3408\n",
              "1042.0    1835\n",
              "1028.0    1784\n",
              "          ... \n",
              "1337.0       1\n",
              "1182.0       1\n",
              "1205.0       1\n",
              "948.0        1\n",
              "930.0        1\n",
              "Name: org_id, Length: 63, dtype: int64"
            ]
          },
          "metadata": {},
          "execution_count": 68
        }
      ]
    },
    {
      "cell_type": "markdown",
      "source": [
        "# 7. Is there a correlation to certain groups where tickets stay in a particular status that is resulting in longer times to restore service?"
      ],
      "metadata": {
        "id": "CgzR8l_FK23B"
      }
    },
    {
      "cell_type": "code",
      "source": [
        ""
      ],
      "metadata": {
        "id": "6zl3ev9m5OLw"
      },
      "execution_count": null,
      "outputs": []
    },
    {
      "cell_type": "markdown",
      "source": [
        "# 8. Is there a correlation to certain services where tickets are not resolved as quickly as other services leading to greater MTRS?"
      ],
      "metadata": {
        "id": "7AsVOaCFK251"
      }
    },
    {
      "cell_type": "markdown",
      "source": [
        "## Actual Hours"
      ],
      "metadata": {
        "id": "tZFKMTGc8Qb3"
      }
    },
    {
      "cell_type": "code",
      "source": [
        "graph_labels('ACTUAL_COMPLETION_HRS','count',\"Top 5 services that exceeded 19K actual hours\")\n",
        "temp[temp['ACTUAL_COMPLETION_HRS']>19000]['service'].hist();"
      ],
      "metadata": {
        "colab": {
          "base_uri": "https://localhost:8080/",
          "height": 467
        },
        "id": "QajdGiyc8SIR",
        "outputId": "76529bb2-a1d4-45f8-af22-53ded9e134da"
      },
      "execution_count": 97,
      "outputs": [
        {
          "output_type": "display_data",
          "data": {
            "image/png": "[encoded data removed]",
            "text/plain": [
              "<Figure size 1080x504 with 1 Axes>"
            ]
          },
          "metadata": {
            "needs_background": "light"
          }
        }
      ]
    },
    {
      "cell_type": "markdown",
      "source": [
        "## Business hours"
      ],
      "metadata": {
        "id": "ZmIOaByX8COL"
      }
    },
    {
      "cell_type": "code",
      "source": [
        "graph_labels('BUSINESS_COMPLETION_HRS','count',\"Top 5 services that exceeded 6K BUSINESS hours\")\n",
        "\n",
        "temp[temp['BUSINESS_COMPLETION_HRS']>6300]['service'].hist();"
      ],
      "metadata": {
        "colab": {
          "base_uri": "https://localhost:8080/",
          "height": 467
        },
        "id": "3TDosk7k5Sze",
        "outputId": "406b4830-87ba-4fb9-901b-c3bdc15097ac"
      },
      "execution_count": 95,
      "outputs": [
        {
          "output_type": "display_data",
          "data": {
            "image/png": "[encoded data removed]",
            "text/plain": [
              "<Figure size 1080x504 with 1 Axes>"
            ]
          },
          "metadata": {
            "needs_background": "light"
          }
        }
      ]
    },
    {
      "cell_type": "markdown",
      "source": [
        "# 9. There are many Event Management tickets. What is the difference in incidents ticket including and excluding Event Management tickets?"
      ],
      "metadata": {
        "id": "90VPUPoMLGwy"
      }
    },
    {
      "cell_type": "code",
      "source": [
        ""
      ],
      "metadata": {
        "id": "9klyZOHH5SRe"
      },
      "execution_count": null,
      "outputs": []
    }
  ]
}